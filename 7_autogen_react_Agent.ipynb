{
 "cells": [
  {
   "cell_type": "code",
   "execution_count": 1,
   "id": "0a69c8ca",
   "metadata": {},
   "outputs": [
    {
     "name": "stderr",
     "output_type": "stream",
     "text": [
      "python-dotenv could not parse statement starting at line 1\n",
      "python-dotenv could not parse statement starting at line 3\n",
      "python-dotenv could not parse statement starting at line 4\n",
      "python-dotenv could not parse statement starting at line 5\n",
      "python-dotenv could not parse statement starting at line 6\n",
      "python-dotenv could not parse statement starting at line 1\n",
      "python-dotenv could not parse statement starting at line 3\n",
      "python-dotenv could not parse statement starting at line 4\n",
      "python-dotenv could not parse statement starting at line 5\n",
      "python-dotenv could not parse statement starting at line 6\n",
      "python-dotenv could not parse statement starting at line 1\n",
      "python-dotenv could not parse statement starting at line 3\n",
      "python-dotenv could not parse statement starting at line 4\n",
      "python-dotenv could not parse statement starting at line 5\n",
      "python-dotenv could not parse statement starting at line 6\n",
      "python-dotenv could not parse statement starting at line 1\n",
      "python-dotenv could not parse statement starting at line 3\n",
      "python-dotenv could not parse statement starting at line 4\n",
      "python-dotenv could not parse statement starting at line 5\n",
      "python-dotenv could not parse statement starting at line 6\n",
      "python-dotenv could not parse statement starting at line 1\n",
      "python-dotenv could not parse statement starting at line 3\n",
      "python-dotenv could not parse statement starting at line 4\n",
      "python-dotenv could not parse statement starting at line 5\n",
      "python-dotenv could not parse statement starting at line 6\n",
      "python-dotenv could not parse statement starting at line 1\n",
      "python-dotenv could not parse statement starting at line 3\n",
      "python-dotenv could not parse statement starting at line 4\n",
      "python-dotenv could not parse statement starting at line 5\n",
      "python-dotenv could not parse statement starting at line 6\n",
      "python-dotenv could not parse statement starting at line 1\n",
      "python-dotenv could not parse statement starting at line 3\n",
      "python-dotenv could not parse statement starting at line 4\n",
      "python-dotenv could not parse statement starting at line 5\n",
      "python-dotenv could not parse statement starting at line 6\n"
     ]
    }
   ],
   "source": [
    "import os \n",
    "from typing import Annotated\n",
    "from tavily import TavilyClient \n",
    "from autogen import AssistantAgent,UserProxyAgent,config_list_from_json,register_function\n",
    "from autogen.cache import Cache\n",
    "from autogen.agentchat.contrib.capabilities import teachability\n",
    "from autogen.coding import DockerCommandLineCodeExecutor,LocalCommandLineCodeExecutor"
   ]
  },
  {
   "cell_type": "code",
   "execution_count": null,
   "id": "ba2005fe",
   "metadata": {},
   "outputs": [],
   "source": [
    "config_list = [\n",
    "    {\n",
    "    }\n",
    "]\n",
    "llm_config = {\n",
    "    \"timeout\": 600,\n",
    "    \"cache_seed\": 42,  # Use 'cache_seed' instead of 'use_cache' (True becomes a seed value)\n",
    "    \"config_list\": config_list,\n",
    "}"
   ]
  },
  {
   "cell_type": "code",
   "execution_count": 3,
   "id": "e11a766d",
   "metadata": {},
   "outputs": [],
   "source": [
    "tavily = TavilyClient(api_key=\"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\")\n"
   ]
  },
  {
   "cell_type": "code",
   "execution_count": 4,
   "id": "ae234bdb",
   "metadata": {},
   "outputs": [],
   "source": [
    "def search_tool(query : Annotated[str, \"search\"]) -> Annotated[str, \"search results\"]:\n",
    "    \"\"\"\n",
    "    Search the web for a given query.\n",
    "    \"\"\"\n",
    "    return tavily.get_search_context(query=query,search_depth=\"advanced\")"
   ]
  },
  {
   "cell_type": "code",
   "execution_count": 5,
   "id": "04041179",
   "metadata": {},
   "outputs": [],
   "source": [
    "ReAct_prompt = \"\"\"\n",
    "Answer the following questions as best you can. You have access to tools provided.\n",
    "\n",
    "Use the following format:\n",
    "\n",
    "Question: the input question you must answer\n",
    "Thought: you should always think about what to do\n",
    "Action: the action to take\n",
    "Action Input: the input to the action\n",
    "Observation: the result of the action\n",
    "... (this process can repeat multiple times)\n",
    "Thought: I now know the final answer\n",
    "Final Answer: the final answer to the original input question\n",
    "\n",
    "Begin!\n",
    "Question: {input}\n",
    "\"\"\"\n"
   ]
  },
  {
   "cell_type": "code",
   "execution_count": null,
   "id": "cff5c09e",
   "metadata": {},
   "outputs": [],
   "source": [
    "# Define the ReAct prompt message. Assuming a \"question\" field is present in the context\n",
    "def react_prompt_message(sender, recipient, context):\n",
    "    return ReAct_prompt.format(input=context[\"question\"])"
   ]
  },
  {
   "cell_type": "markdown",
   "id": "07af3c5b",
   "metadata": {},
   "source": [
    "## Construct agents and initiate agent chats\n"
   ]
  },
  {
   "cell_type": "code",
   "execution_count": 7,
   "id": "a0ab1c7e",
   "metadata": {},
   "outputs": [],
   "source": [
    "\n",
    "os.makedirs(\"coding\", exist_ok=True)"
   ]
  },
  {
   "cell_type": "code",
   "execution_count": 8,
   "id": "2379af42",
   "metadata": {},
   "outputs": [],
   "source": [
    "code_executor = LocalCommandLineCodeExecutor(work_dir=\"coding\")"
   ]
  },
  {
   "cell_type": "code",
   "execution_count": 9,
   "id": "a37dde18",
   "metadata": {},
   "outputs": [],
   "source": [
    "user_proxy = UserProxyAgent(\n",
    "    name=\"User\",\n",
    "    is_termination_msg=lambda x: x.get(\"content\", \"\") and x.get(\"content\", \"\").rstrip().endswith(\"TERMINATE\"),\n",
    "    human_input_mode=\"ALWAYS\",\n",
    "    max_consecutive_auto_reply=10,\n",
    "    code_execution_config={\"executor\": code_executor},\n",
    ")"
   ]
  },
  {
   "cell_type": "code",
   "execution_count": 10,
   "id": "3766b797",
   "metadata": {},
   "outputs": [],
   "source": [
    "assistant = AssistantAgent(\n",
    "    name=\"Assistant\",\n",
    "    system_message=\"Only use the tools you have been provided with. Reply TERMINATE when the task is done.\",\n",
    "    llm_config={\"config_list\": config_list, \"cache_seed\": None},\n",
    ")"
   ]
  },
  {
   "cell_type": "code",
   "execution_count": 11,
   "id": "59886034",
   "metadata": {},
   "outputs": [],
   "source": [
    "register_function(\n",
    "    search_tool,\n",
    "    caller=assistant,\n",
    "    executor=user_proxy,\n",
    "    name=\"search_tool\",\n",
    "    description=\"Search the web for the given query\",\n",
    ")"
   ]
  },
  {
   "cell_type": "code",
   "execution_count": 12,
   "id": "0e92e6ce",
   "metadata": {},
   "outputs": [
    {
     "name": "stdout",
     "output_type": "stream",
     "text": [
      "\u001b[33mUser\u001b[0m (to Assistant):\n",
      "\n",
      "\n",
      "Answer the following questions as best you can. You have access to tools provided.\n",
      "\n",
      "Use the following format:\n",
      "\n",
      "Question: the input question you must answer\n",
      "Thought: you should always think about what to do\n",
      "Action: the action to take\n",
      "Action Input: the input to the action\n",
      "Observation: the result of the action\n",
      "... (this process can repeat multiple times)\n",
      "Thought: I now know the final answer\n",
      "Final Answer: the final answer to the original input question\n",
      "\n",
      "Begin!\n",
      "Question: What is the result of super bowl 2024?\n",
      "\n",
      "\n",
      "--------------------------------------------------------------------------------\n",
      "\u001b[33mAssistant\u001b[0m (to User):\n",
      "\n",
      "\u001b[32m***** Suggested tool call (call_vdU7NR0O90ZcoLvD6MmN97tt): search_tool *****\u001b[0m\n",
      "Arguments: \n",
      "{\"query\":\"super bowl 2024 result\"}\n",
      "\u001b[32m****************************************************************************\u001b[0m\n",
      "\n",
      "--------------------------------------------------------------------------------\n",
      "\u001b[31m\n",
      ">>>>>>>> NO HUMAN INPUT RECEIVED.\u001b[0m\n",
      "\u001b[31m\n",
      ">>>>>>>> USING AUTO REPLY...\u001b[0m\n",
      "\u001b[35m\n",
      ">>>>>>>> EXECUTING FUNCTION search_tool...\n",
      "Call ID: call_vdU7NR0O90ZcoLvD6MmN97tt\n",
      "Input arguments: {'query': 'super bowl 2024 result'}\u001b[0m\n",
      "\u001b[33mUser\u001b[0m (to Assistant):\n",
      "\n",
      "\u001b[32m***** Response from calling tool (call_vdU7NR0O90ZcoLvD6MmN97tt) *****\u001b[0m\n",
      "[{\"url\": \"https://en.wikipedia.org/wiki/Super_Bowl_LVIII\", \"content\": \"Super Bowl LVIII \\u2013 San Francisco 49ers vs Kansas City Chiefs \\u2013 Game summary\\nQuarter 1   2   3   4   OT  Total\\n49ers (NFC) 0   10  0   9   3   22\\nChiefs (AFC)    0   3   10  6   6   25\\nat Allegiant Stadium, Paradise, Nevada[a]\\nDate: February 11, 2024\\nGame time: 3:40\\u00a0p.m. PST\\nGame weather: N/A (indoor stadium)\\nGame attendance: 61,629\\nReferee: Bill Vinovich\\nTV announcers\\u00a0(CBS/Paramount+\\u2014traditional broadcast, Nickelodeon\\u2014kids broadcast):\\nCBS/Paramount+: [...] SF  0   10  0   9   3   22\\nKC  0   3   10  6   6   25\\nDate    February\\u00a011,\\u00a02024\\nKickoff time    3:40 p.m. PST (UTC-8)\\nStadium Allegiant Stadium, Paradise, Nevada[a]\\nMVP Patrick Mahomes, quarterback\\nFavorite    49ers by 2.5[1]\\nReferee Bill Vinovich\\nAttendance  61,629\\nCeremonies\\nNational anthem Reba McEntire\\nCoin toss   Lahainaluna Lunas football head coach Bobby Watson\\nHalftime show   Usher, featuring Alicia Keys, Jermaine Dupri, H.E.R., will.i.am, Lil Jon, and Ludacris[2] [...] ^ Maaddi, Rob (February 12, 2024). \\\"Patrick Mahomes rallies the Chiefs to second straight Super Bowl title, 25\\u201322 over 49ers in overtime\\\". AP News. Archived from the original on February 13, 2024. Retrieved February 13, 2024.\\n^ Akers, Mick (February 12, 2024). \\\"Allegiant Stadium 'perfect stage' for Super Bowl sellout\\\". Las Vegas Review-Journal. Archived from the original on February 13, 2024. Retrieved February 13, 2024.\"}, {\"url\": \"https://www.sportingnews.com/us/nfl/news/super-bowl-2024-live-score-49ers-chiefs-results-highlights/0c440aa7145b809ed174d8ff\", \"content\": \"THE CHIEFS ARE BACK-TO-BACK SUPER BOWL CHAMPIONS! pic.twitter.com/ZzfhTyUXg9\\n\\u2014 NFL (@NFL) February 12, 2024\\nSuper Bowl 2024 final score\\n\\u00a0   Q1  Q2  Q3  Q4  OT  F\\n49ers   0   10  0   9   3   22\\nChiefs  0   3   10  6   6   25\\n49ers vs. Chiefs final score, results, highlights from Super Bowl 58\\n(All times Eastern)\\nFinal: Chiefs 25, 49ers 22 [...] MORE SUPER BOWL 58: Best, worst commercials |\\u00a0Taylor Swift's moments | Halftime show reviews\\nWho won Super Bowl 2024?\\nThe Chiefs defeated the 49ers, 25-22, to win Super Bowl 58 in Las Vegas. Mecole Hardman caught the game-winning touchdown from Patrick Mahomes with 3 seconds remaining in overtime, helping Kansas City become the 10th team to repeat as Super Bowl champions in NFL history. Mahomes was named Super Bowl MVP for a third time. [...] 10:16 p.m. FIELD GOAL\\u00a0\\u2014 Butker is good. It's 19-19. We're three seconds away from the second overtime game in Super Bowl history.\\nWHAT A GAME. TIED AGAIN!\\n\\ud83d\\udcfa: #SBLVIII on CBS\\n\\ud83d\\udcf1: Stream on #NFLPlus https://t.co/dClcEDViWl pic.twitter.com/tZXfTIemEQ\\n\\u2014 NFL (@NFL) February 12, 2024\\n10:15 p.m. \\u2014 A low snap leads to a Mahomes incompletion, and the Chiefs aren't going to risk it: Butker is coming on to force overtime.\\n10:14 p.m. \\u2014 The Chiefs have 10 seconds and 11 yards to win the game.\"}, {\"url\": \"https://en.wikipedia.org/wiki/Super_Bowl_LIX\", \"content\": \"Super Bowl LIX was an American football championship game played to determine the champion of the National Football League (NFL) for the 2024 season. In a rematch of Super Bowl LVII two years prior, the National Football Conference (NFC) champion Philadelphia Eagles defeated the American Football Conference (AFC) champion Kansas City Chiefs 40\\u201322, securing their first Super Bowl championship since Super Bowl LII seven years earlier, and second overall. Eagles quarterback Jalen Hurts, who scored\"}, {\"url\": \"https://www.lubbockonline.com/story/sports/nfl/2025/02/09/who-won-super-bowl-2024-kansas-city-chiefs-49ers-highlights-stats/78223164007/\", \"content\": \"Who won the Super Bowl in 2024?\\nThe Chiefs came out on top in Super Bowl 58 against the 49ers with a 25-22 overtime win at Allegiant Stadium in Las Vegas.\\nKansas City sealed its third Super Bowl championship in a span of five years on a 3-yard touchdown in overtime when Mahomes found Mecole Hardman open on the right side while on the run. Mahomes' pass to Hardman capped off a comeback victory for the Chiefs, who trailed 10-3 at halftime. [...] Super Bowl 50:\\u00a0Denver Broncos 24, Carolina Panthers 10\\nSuper Bowl 51:\\u00a0New England Patriots 34, Atlanta Falcons 28\\nSuper Bowl 52:\\u00a0Philadelphia Eagles 41, New England Patriots 33\\nSuper Bowl 53:\\u00a0New England Patriots 13, Los Angeles Rams 3\\nSuper Bowl 54:\\u00a0Kansas City Chiefs 31, San Francisco 49ers 20\\nSuper Bowl 55:\\u00a0Tampa Bay Buccaneers 31, Kansas City Chiefs 9\\nSuper Bowl 56:\\u00a0Los Angeles Rams 23, Cincinnati Bengals 20\\nSuper Bowl 57:\\u00a0Kansas City Chiefs 38, Philadelphia Eagles 35 [...] Super Bowl 34:\\u00a0St. Louis Rams 23, Tennessee Titans 16\\nSuper Bowl 35:\\u00a0Baltimore Ravens 34, New York Giants 7\\nSuper Bowl 36:\\u00a0New England Patriots 20, St. Louis Rams 17\\nSuper Bowl 37:\\u00a0Tampa Bay Buccaneers 48, Oakland Raiders 21\\nSuper Bowl 38:\\u00a0New England Patriots 32, Carolina Panthers 29\\nSuper Bowl 39:\\u00a0New England Patriots 24, Philadelphia Eagles 21\\nSuper Bowl 40:\\u00a0Pittsburgh Steelers 21, Seattle Seahawks 10\\nSuper Bowl 41:\\u00a0Indianapolis Colts 29, Chicago Bears 17\"}, {\"url\": \"https://www.bbc.com/sport/american-football/live/ceqj69d5y8yt\", \"content\": \"If you can't let it all hang out in overtime at the Super Bowl when can you?\\n\\nWho can finish the job?published at 03:44 Greenwich Mean Time 12 February 202403:44 GMT 12 February 2024\\n\\nSan Francisco 49ers 22-19 Kansas City Chiefs [...] Kansas City Chiefs beat San Francisco 49ers in overtime to win Super Bowl 58 \\u00e2\\u0080\\u0093 as it happened\\n\\nSummary\\n\\nSuper Bowl 58 result: San Francisco 49ers 22-25 Kansas City Chiefs\\n\\nChiefs win third Super Bowl in five years after dramatic overtime finish\\n\\nPatrick Mahomes leads superb overtime touchdown drive to win game\\n\\nTaylor Swift was in stands, supporting Chiefs boyfriend Travis Kelce\\n\\nGame was a rematch of 2020 Super Bowl, which Chiefs won 31-20 [...] \\\"This is the legendary magic of Patrick Mahomes. Chasing greatness!\\\"\\n\\nTouchdown - Chiefs win the Super Bowl!published at 03:47 Greenwich Mean Time 12 February 202403:47 GMT 12 February 2024\\n\\nSan Francisco 49ers 22-25 Kansas City Chiefs\\n\\nHe's done it! Patrick Mahomes throws the winning touchdown pass to Mecole Hardman and the Kansas City Chiefs win back-to-back Super Bowl titles!\\n\\nClose!published at 03:46 Greenwich Mean Time 12 February 202403:46 GMT 12 February 2024\"}]\n",
      "\u001b[32m**********************************************************************\u001b[0m\n",
      "\n",
      "--------------------------------------------------------------------------------\n",
      "\u001b[33mAssistant\u001b[0m (to User):\n",
      "\n",
      "Thought: I now have the final result for Super Bowl 2024.\n",
      "Final Answer: In Super Bowl 2024 (Super Bowl LVIII), the Kansas City Chiefs defeated the San Francisco 49ers with a score of 25-22 in overtime. Patrick Mahomes was named the MVP for his performance, including a game-winning touchdown pass to Mecole Hardman.\n",
      "\n",
      "--------------------------------------------------------------------------------\n",
      "\u001b[33mUser\u001b[0m (to Assistant):\n",
      "\n",
      "give me more information\n",
      "\n",
      "--------------------------------------------------------------------------------\n",
      "\u001b[33mAssistant\u001b[0m (to User):\n",
      "\n",
      "Thought: I will summarize additional key details about the game and related events from the observations.\n",
      "Final Answer: Super Bowl LVIII, held on February 11, 2024, at Allegiant Stadium in Las Vegas, saw the Kansas City Chiefs defeat the San Francisco 49ers 25-22 in overtime. The game featured an incredible performance by Patrick Mahomes, who was named MVP after leading the Chiefs to victory with a decisive touchdown pass to Mecole Hardman. This marked the Chiefs' second consecutive Super Bowl title and their third championship in five years.\n",
      "\n",
      "Other notable details:\n",
      "- The game was tied at 19-19 at the end of regulation, leading to overtime.\n",
      "- The Chiefs trailed 10-3 at halftime but rallied to secure the win.\n",
      "- Attendance at the stadium was 61,629.\n",
      "- The halftime show featured Usher, Alicia Keys, Jermaine Dupri, H.E.R., will.i.am, Lil Jon, and Ludacris.\n",
      "- The National Anthem was performed by Reba McEntire.\n",
      "\n",
      "Additional highlights include moments related to commercials, a Taylor Swift appearance in support of Travis Kelce, and memorable plays that reinforced Mahomes’ reputation as one of the game’s elite quarterbacks.\n",
      "\n",
      "--------------------------------------------------------------------------------\n",
      "\u001b[31m\n",
      ">>>>>>>> NO HUMAN INPUT RECEIVED.\u001b[0m\n",
      "\u001b[31m\n",
      ">>>>>>>> USING AUTO REPLY...\u001b[0m\n",
      "\u001b[33mUser\u001b[0m (to Assistant):\n",
      "\n",
      "\n",
      "\n",
      "--------------------------------------------------------------------------------\n",
      "\u001b[33mAssistant\u001b[0m (to User):\n",
      "\n",
      "Is there anything more specific you would like to know about Super Bowl LVIII, or its events, performances, or players?\n",
      "\n",
      "--------------------------------------------------------------------------------\n",
      "\u001b[31m\n",
      ">>>>>>>> TERMINATING RUN (3513fed1-3eff-48db-a26e-29a47558e6c4): User requested to end the conversation\u001b[0m\n"
     ]
    }
   ],
   "source": [
    "# Cache LLM responses. To get different responses, change the cache_seed value.\n",
    "with Cache.disk(cache_seed=43) as cache:\n",
    "    user_proxy.initiate_chat(\n",
    "        assistant,\n",
    "        message=react_prompt_message,\n",
    "        question=\"What is the result of super bowl 2024?\",\n",
    "        cache=cache,\n",
    "    )"
   ]
  },
  {
   "cell_type": "code",
   "execution_count": null,
   "id": "9feb28a1",
   "metadata": {},
   "outputs": [],
   "source": []
  },
  {
   "cell_type": "markdown",
   "id": "d1c418e5",
   "metadata": {},
   "source": [
    "## ReAct with memory module enabled via teachability"
   ]
  },
  {
   "cell_type": "code",
   "execution_count": 13,
   "id": "582fe03a",
   "metadata": {},
   "outputs": [
    {
     "name": "stderr",
     "output_type": "stream",
     "text": [
      "python-dotenv could not parse statement starting at line 1\n",
      "python-dotenv could not parse statement starting at line 3\n",
      "python-dotenv could not parse statement starting at line 4\n",
      "python-dotenv could not parse statement starting at line 5\n",
      "python-dotenv could not parse statement starting at line 6\n"
     ]
    },
    {
     "name": "stdout",
     "output_type": "stream",
     "text": [
      "\u001b[92m\n",
      "CLEARING MEMORY\u001b[0m\n"
     ]
    }
   ],
   "source": [
    "# Instantiate the Teachability capability. Its parameters are all optional.\n",
    "teachability = teachability.Teachability(\n",
    "    verbosity=0,  # 0 for basic info, 1 to add memory operations, 2 for analyzer messages, 3 for memo lists.\n",
    "    reset_db=True,\n",
    "    path_to_db_dir=\"./tmp/notebook/teachability_db\",\n",
    "    recall_threshold=1.5,  # Higher numbers allow more (but less relevant) memos to be recalled.\n",
    ")"
   ]
  },
  {
   "cell_type": "code",
   "execution_count": 14,
   "id": "54ce5d21",
   "metadata": {},
   "outputs": [],
   "source": [
    "# Now add the Teachability capability to the agent.\n",
    "teachability.add_to_agent(assistant)"
   ]
  },
  {
   "cell_type": "code",
   "execution_count": 15,
   "id": "75243d43",
   "metadata": {},
   "outputs": [
    {
     "name": "stdout",
     "output_type": "stream",
     "text": [
      "\u001b[33mUser\u001b[0m (to Assistant):\n",
      "\n",
      "\n",
      "Answer the following questions as best you can. You have access to tools provided.\n",
      "\n",
      "Use the following format:\n",
      "\n",
      "Question: the input question you must answer\n",
      "Thought: you should always think about what to do\n",
      "Action: the action to take\n",
      "Action Input: the input to the action\n",
      "Observation: the result of the action\n",
      "... (this process can repeat multiple times)\n",
      "Thought: I now know the final answer\n",
      "Final Answer: the final answer to the original input question\n",
      "\n",
      "Begin!\n",
      "Question: What is the result of super bowl 2024?\n",
      "\n",
      "\n",
      "--------------------------------------------------------------------------------\n"
     ]
    },
    {
     "name": "stderr",
     "output_type": "stream",
     "text": [
      "C:\\Users\\dhanu\\.cache\\chroma\\onnx_models\\all-MiniLM-L6-v2\\onnx.tar.gz: 100%|██████████| 79.3M/79.3M [03:32<00:00, 391kiB/s] \n"
     ]
    },
    {
     "name": "stdout",
     "output_type": "stream",
     "text": [
      "\u001b[33mAssistant\u001b[0m (to User):\n",
      "\n",
      "\u001b[32m***** Suggested tool call (call_srFqXzevIhau4blg7F9NMktG): search_tool *****\u001b[0m\n",
      "Arguments: \n",
      "{\"query\":\"Super Bowl 2024 result\"}\n",
      "\u001b[32m****************************************************************************\u001b[0m\n",
      "\n",
      "--------------------------------------------------------------------------------\n",
      "\u001b[31m\n",
      ">>>>>>>> TERMINATING RUN (3b30bae5-b9e6-424e-9f97-f1d9e5a8b02c): User requested to end the conversation\u001b[0m\n"
     ]
    }
   ],
   "source": [
    "\n",
    "with Cache.disk(cache_seed=44) as cache:\n",
    "    user_proxy.initiate_chat(\n",
    "        assistant,\n",
    "        message=react_prompt_message,\n",
    "        question=\"What is the result of super bowl 2024?\",\n",
    "        cache=cache,\n",
    "    )"
   ]
  },
  {
   "cell_type": "code",
   "execution_count": null,
   "id": "1a713a0d",
   "metadata": {},
   "outputs": [],
   "source": []
  }
 ],
 "metadata": {
  "kernelspec": {
   "display_name": "idk",
   "language": "python",
   "name": "python3"
  },
  "language_info": {
   "codemirror_mode": {
    "name": "ipython",
    "version": 3
   },
   "file_extension": ".py",
   "mimetype": "text/x-python",
   "name": "python",
   "nbconvert_exporter": "python",
   "pygments_lexer": "ipython3",
   "version": "3.11.11"
  }
 },
 "nbformat": 4,
 "nbformat_minor": 5
}
