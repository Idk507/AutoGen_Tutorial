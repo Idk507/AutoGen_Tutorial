{
 "cells": [
  {
   "cell_type": "code",
   "execution_count": 15,
   "id": "2134351d",
   "metadata": {},
   "outputs": [],
   "source": [
    "import os\n",
    "from datetime import datetime\n",
    "from typing import Callable, Dict, Literal, Optional, Union\n",
    "\n",
    "from typing_extensions import Annotated\n",
    "\n",
    "from autogen import (\n",
    "    Agent,\n",
    "    AssistantAgent,\n",
    "    ConversableAgent,\n",
    "    GroupChat,\n",
    "    GroupChatManager,\n",
    "    UserProxyAgent,\n",
    "    config_list_from_json,\n",
    "    register_function,\n",
    ")\n",
    "#from autogen.agentchat.contrib import agent_builder\n",
    "from autogen.cache import Cache\n",
    "from autogen.coding import DockerCommandLineCodeExecutor, LocalCommandLineCodeExecutor"
   ]
  },
  {
   "cell_type": "code",
   "execution_count": null,
   "id": "f7eb1c83",
   "metadata": {},
   "outputs": [],
   "source": [
    "config_list = [\n",
    "    {\n",
    "        \n",
    "    }\n",
    "]\n",
    "llm_config = {\n",
    "    \"timeout\": 600,\n",
    "    \"cache_seed\": 42,  # Use 'cache_seed' instead of 'use_cache' (True becomes a seed value)\n",
    "    \"config_list\": config_list,\n",
    "}"
   ]
  },
  {
   "cell_type": "code",
   "execution_count": 4,
   "id": "3daea760",
   "metadata": {},
   "outputs": [
    {
     "name": "stdout",
     "output_type": "stream",
     "text": [
      "Today is 2025-05-07. Write a blogpost about the stock price performance of Nvidia in the past month.\n"
     ]
    }
   ],
   "source": [
    "task = (\n",
    "    f\"Today is {datetime.now().date()}. Write a blogpost about the stock price performance of Nvidia in the past month.\"\n",
    ")\n",
    "print(task)"
   ]
  },
  {
   "cell_type": "markdown",
   "id": "fba534ec",
   "metadata": {},
   "source": [
    "## Approach 1. Two-agent chat with function call for task decomposition"
   ]
  },
  {
   "cell_type": "code",
   "execution_count": 5,
   "id": "e17557aa",
   "metadata": {},
   "outputs": [],
   "source": [
    "planner = AssistantAgent(\n",
    "    name=\"planner\",\n",
    "    llm_config={\n",
    "        \"config_list\": config_list,\n",
    "        \"cache_seed\": None,  # Disable legacy cache.\n",
    "    },\n",
    "    system_message=\"You are a helpful AI assistant. You suggest a feasible plan \"\n",
    "    \"for finishing a complex task by decomposing it into 3-5 sub-tasks. \"\n",
    "    \"If the plan is not good, suggest a better plan. \"\n",
    "    \"If the execution is wrong, analyze the error and suggest a fix.\",\n",
    ")"
   ]
  },
  {
   "cell_type": "code",
   "execution_count": 6,
   "id": "e0d04316",
   "metadata": {},
   "outputs": [],
   "source": [
    "# Create a planner user agent used to interact with the planner.\n",
    "planner_user = UserProxyAgent(\n",
    "    name=\"planner_user\",\n",
    "    human_input_mode=\"NEVER\",\n",
    "    code_execution_config=False,\n",
    ")"
   ]
  },
  {
   "cell_type": "code",
   "execution_count": 7,
   "id": "735083c0",
   "metadata": {},
   "outputs": [],
   "source": [
    "def task_planner(question: Annotated[str, \"Question to ask the planner.\"]) -> str:\n",
    "    with Cache.disk(cache_seed=4) as cache:\n",
    "        planner_user.initiate_chat(planner, message=question, max_turns=1, cache=cache)\n",
    "    # return the last message received from the planner\n",
    "    return planner_user.last_message()[\"content\"]"
   ]
  },
  {
   "cell_type": "code",
   "execution_count": 8,
   "id": "e57e36ef",
   "metadata": {},
   "outputs": [],
   "source": [
    "# Create assistant agent.\n",
    "assistant = AssistantAgent(\n",
    "    name=\"assistant\",\n",
    "    system_message=\"You are a helpful AI assistant. \"\n",
    "    \"You can use the task planner to decompose a complex task into sub-tasks. \"\n",
    "    \"Make sure your follow through the sub-tasks. \"\n",
    "    \"When needed, write Python code in markdown blocks, and I will execute them.\"\n",
    "    \"Give the user a final solution at the end. \"\n",
    "    \"Return TERMINATE only if the sub-tasks are completed.\",\n",
    "    llm_config={\n",
    "        \"config_list\": config_list,\n",
    "        \"cache_seed\": None,  # Disable legacy cache.\n",
    "    },\n",
    ")"
   ]
  },
  {
   "cell_type": "code",
   "execution_count": 9,
   "id": "6b91fa5f",
   "metadata": {},
   "outputs": [],
   "source": [
    "os.makedirs(\"planning\", exist_ok=True)"
   ]
  },
  {
   "cell_type": "code",
   "execution_count": 10,
   "id": "6c77275f",
   "metadata": {},
   "outputs": [],
   "source": [
    "# code_executor = DockerCommandLineCodeExecutor(work_dir=\"planning\")\n",
    "code_executor = LocalCommandLineCodeExecutor(work_dir=\"planning\")"
   ]
  },
  {
   "cell_type": "code",
   "execution_count": 11,
   "id": "9fb32002",
   "metadata": {},
   "outputs": [],
   "source": [
    "# Create user proxy agent used to interact with the assistant.\n",
    "user_proxy = UserProxyAgent(\n",
    "    name=\"user_proxy\",\n",
    "    human_input_mode=\"ALWAYS\",\n",
    "    is_termination_msg=lambda x: \"content\" in x\n",
    "    and x[\"content\"] is not None\n",
    "    and x[\"content\"].rstrip().endswith(\"TERMINATE\"),\n",
    "    code_execution_config={\"executor\": code_executor},\n",
    ")"
   ]
  },
  {
   "cell_type": "code",
   "execution_count": 12,
   "id": "e255d795",
   "metadata": {},
   "outputs": [],
   "source": [
    "# Register the function to the agent pair.\n",
    "register_function(\n",
    "    task_planner,\n",
    "    caller=assistant,\n",
    "    executor=user_proxy,\n",
    "    name=\"task_planner\",\n",
    "    description=\"A task planner than can help you with decomposing a complex task into sub-tasks.\",\n",
    ")"
   ]
  },
  {
   "cell_type": "code",
   "execution_count": 13,
   "id": "48ff4c88",
   "metadata": {},
   "outputs": [
    {
     "name": "stdout",
     "output_type": "stream",
     "text": [
      "\u001b[33muser_proxy\u001b[0m (to assistant):\n",
      "\n",
      "Today is 2025-05-07. Write a blogpost about the stock price performance of Nvidia in the past month.\n",
      "\n",
      "--------------------------------------------------------------------------------\n",
      "\u001b[33massistant\u001b[0m (to user_proxy):\n",
      "\n",
      "\u001b[32m***** Suggested tool call (call_XyeNayvHXib38FAMsC1Mwz5l): task_planner *****\u001b[0m\n",
      "Arguments: \n",
      "{\"question\":\"How can I summarize Nvidia's stock price performance over the past month and generate a blog post about it?\"}\n",
      "\u001b[32m*****************************************************************************\u001b[0m\n",
      "\n",
      "--------------------------------------------------------------------------------\n",
      "\u001b[31m\n",
      ">>>>>>>> NO HUMAN INPUT RECEIVED.\u001b[0m\n",
      "\u001b[31m\n",
      ">>>>>>>> USING AUTO REPLY...\u001b[0m\n",
      "\u001b[35m\n",
      ">>>>>>>> EXECUTING FUNCTION task_planner...\n",
      "Call ID: call_XyeNayvHXib38FAMsC1Mwz5l\n",
      "Input arguments: {'question': \"How can I summarize Nvidia's stock price performance over the past month and generate a blog post about it?\"}\u001b[0m\n",
      "\u001b[33mplanner_user\u001b[0m (to planner):\n",
      "\n",
      "How can I summarize Nvidia's stock price performance over the past month and generate a blog post about it?\n",
      "\n",
      "--------------------------------------------------------------------------------\n",
      "\u001b[33mplanner\u001b[0m (to planner_user):\n",
      "\n",
      "To summarize Nvidia's stock price performance over the past month and write a blog post, here’s a suggested plan broken into 5 sub-tasks:\n",
      "\n",
      "### Sub-task 1: Collect Stock Price Data\n",
      "- **Action**: Use reliable financial tools or data providers (e.g., Yahoo Finance, Google Finance, Bloomberg) to retrieve Nvidia's stock price data for the past month.\n",
      "- **Details**: Gather the daily opening/closing prices, highs and lows, and trading volume. Note any significant dates where large fluctuations occurred.\n",
      "\n",
      "### Sub-task 2: Analyze Key Trends\n",
      "- **Action**: Examine the stock price data to identify trends (e.g., uptrends, downtrends, or stability).\n",
      "- **Details**: Use metrics like percentage changes, moving averages, or notable patterns. Highlight any major events (e.g., earnings reports, product launches, or macroeconomic factors) that may have influenced the price.\n",
      "\n",
      "### Sub-task 3: Research Context and Contributing Factors\n",
      "- **Action**: Investigate broader market conditions and news related to Nvidia.\n",
      "- **Details**: Look into competitor performance, industry trends (e.g., AI, GPUs, semiconductors), and any Nvidia-specific announcements (e.g., partnerships, acquisitions, or new product developments).\n",
      "\n",
      "### Sub-task 4: Draft the Blog Post\n",
      "- **Action**: Write the blog post in a clear and engaging format.\n",
      "- **Details**: Structure the post with:\n",
      "    1. **Introduction**: Introduce Nvidia and its relevance in the market.\n",
      "    2. **Performance Summary**: Summarize the key trends and metrics.\n",
      "    3. **Analysis**: Explain significant contributors to price movements.\n",
      "    4. **Conclusion**: Suggest potential implications for investors and what to watch for in the coming months.\n",
      "\n",
      "### Sub-task 5: Edit and Publish\n",
      "- **Action**: Proofread and refine the blog post for clarity, accuracy, and grammar.\n",
      "- **Details**: Ensure appropriate visuals like stock charts or performance tables are included. Once finalized, publish to your platform or blog.\n",
      "\n",
      "Would you like suggestions for tools to use for data sourcing, analysis, or blog drafting?\n",
      "\n",
      "--------------------------------------------------------------------------------\n",
      "\u001b[31m\n",
      ">>>>>>>> TERMINATING RUN (20bce36b-3416-4e7d-a746-d43e07f98b67): Maximum turns (1) reached\u001b[0m\n",
      "\u001b[33muser_proxy\u001b[0m (to assistant):\n",
      "\n",
      "\u001b[32m***** Response from calling tool (call_XyeNayvHXib38FAMsC1Mwz5l) *****\u001b[0m\n",
      "To summarize Nvidia's stock price performance over the past month and write a blog post, here’s a suggested plan broken into 5 sub-tasks:\n",
      "\n",
      "### Sub-task 1: Collect Stock Price Data\n",
      "- **Action**: Use reliable financial tools or data providers (e.g., Yahoo Finance, Google Finance, Bloomberg) to retrieve Nvidia's stock price data for the past month.\n",
      "- **Details**: Gather the daily opening/closing prices, highs and lows, and trading volume. Note any significant dates where large fluctuations occurred.\n",
      "\n",
      "### Sub-task 2: Analyze Key Trends\n",
      "- **Action**: Examine the stock price data to identify trends (e.g., uptrends, downtrends, or stability).\n",
      "- **Details**: Use metrics like percentage changes, moving averages, or notable patterns. Highlight any major events (e.g., earnings reports, product launches, or macroeconomic factors) that may have influenced the price.\n",
      "\n",
      "### Sub-task 3: Research Context and Contributing Factors\n",
      "- **Action**: Investigate broader market conditions and news related to Nvidia.\n",
      "- **Details**: Look into competitor performance, industry trends (e.g., AI, GPUs, semiconductors), and any Nvidia-specific announcements (e.g., partnerships, acquisitions, or new product developments).\n",
      "\n",
      "### Sub-task 4: Draft the Blog Post\n",
      "- **Action**: Write the blog post in a clear and engaging format.\n",
      "- **Details**: Structure the post with:\n",
      "    1. **Introduction**: Introduce Nvidia and its relevance in the market.\n",
      "    2. **Performance Summary**: Summarize the key trends and metrics.\n",
      "    3. **Analysis**: Explain significant contributors to price movements.\n",
      "    4. **Conclusion**: Suggest potential implications for investors and what to watch for in the coming months.\n",
      "\n",
      "### Sub-task 5: Edit and Publish\n",
      "- **Action**: Proofread and refine the blog post for clarity, accuracy, and grammar.\n",
      "- **Details**: Ensure appropriate visuals like stock charts or performance tables are included. Once finalized, publish to your platform or blog.\n",
      "\n",
      "Would you like suggestions for tools to use for data sourcing, analysis, or blog drafting?\n",
      "\u001b[32m**********************************************************************\u001b[0m\n",
      "\n",
      "--------------------------------------------------------------------------------\n",
      "\u001b[33massistant\u001b[0m (to user_proxy):\n",
      "\n",
      "Let's begin with the task of retrieving Nvidia's stock price data for the past month to analyze performance trends. I'll download and analyze the data, identify key trends, and create an informative blog post step by step.\n",
      "\n",
      "### Step 1: Collect Stock Price Data\n",
      "I'll now gather Nvidia's stock performance data for the past month. Let me proceed.\n",
      "\u001b[32m***** Suggested tool call (call_hrAB25yWyKxOZuyyssfj7rFx): task_planner *****\u001b[0m\n",
      "Arguments: \n",
      "{\"question\":\"What are reliable methods or tools I can use to collect stock price data for Nvidia for the past month?\"}\n",
      "\u001b[32m*****************************************************************************\u001b[0m\n",
      "\n",
      "--------------------------------------------------------------------------------\n",
      "\u001b[31m\n",
      ">>>>>>>> TERMINATING RUN (4a269189-b294-401c-897e-a2ae6eee706b): User requested to end the conversation\u001b[0m\n"
     ]
    }
   ],
   "source": [
    "# Use Cache.disk to cache LLM responses. Change cache_seed for different responses.\n",
    "with Cache.disk(cache_seed=1) as cache:\n",
    "    # the assistant receives a message from the user, which contains the task description\n",
    "    user_proxy.initiate_chat(\n",
    "        assistant,\n",
    "        message=task,\n",
    "        cache=cache,\n",
    "    )"
   ]
  },
  {
   "cell_type": "markdown",
   "id": "fb489db3",
   "metadata": {},
   "source": [
    "## Approach 2: Group chat"
   ]
  },
  {
   "cell_type": "code",
   "execution_count": 16,
   "id": "3ac00daa",
   "metadata": {},
   "outputs": [],
   "source": [
    "user_proxy = UserProxyAgent(\n",
    "    name=\"Admin\",\n",
    "    system_message=\"A human admin. Give the task, and send instructions to writer to refine the blog post.\",\n",
    "    code_execution_config=False,\n",
    ")\n"
   ]
  },
  {
   "cell_type": "code",
   "execution_count": 17,
   "id": "9e4b41cf",
   "metadata": {},
   "outputs": [],
   "source": [
    "planner = AssistantAgent(\n",
    "    name=\"Planner\",\n",
    "    system_message=\"\"\"Planner. Given a task, please determine what information is needed to complete the task.\n",
    "Please note that the information will all be retrieved using Python code. Please only suggest information that can be retrieved using Python code.\n",
    "\"\"\",\n",
    "    llm_config={\"config_list\": config_list, \"cache_seed\": None},\n",
    ")\n",
    "\n",
    "engineer = AssistantAgent(\n",
    "    name=\"Engineer\",\n",
    "    llm_config={\"config_list\": config_list, \"cache_seed\": None},\n",
    "    system_message=\"\"\"Engineer. You write python/bash to retrieve relevant information. Wrap the code in a code block that specifies the script type. The user can't modify your code. So do not suggest incomplete code which requires others to modify. Don't use a code block if it's not intended to be executed by the executor.\n",
    "Don't include multiple code blocks in one response. Do not ask others to copy and paste the result. Check the execution result returned by the executor.\n",
    "If the result indicates there is an error, fix the error and output the code again. Suggest the full code instead of partial code or code changes. If the error can't be fixed or if the task is not solved even after the code is executed successfully, analyze the problem, revisit your assumption, collect additional info you need, and think of a different approach to try.\n",
    "\"\"\",\n",
    ")\n",
    "\n",
    "writer = AssistantAgent(\n",
    "    name=\"Writer\",\n",
    "    llm_config={\"config_list\": config_list, \"cache_seed\": None},\n",
    "    system_message=\"\"\"Writer. Please write blogs in markdown format (with relevant titles) and put the content in pseudo ```md``` code block. You will write it for a task based on previous chat history. Don't write any code.\"\"\",\n",
    ")"
   ]
  },
  {
   "cell_type": "code",
   "execution_count": 18,
   "id": "b65438b9",
   "metadata": {},
   "outputs": [],
   "source": [
    "os.makedirs(\"paper\", exist_ok=True)"
   ]
  },
  {
   "cell_type": "code",
   "execution_count": 19,
   "id": "f644ed75",
   "metadata": {},
   "outputs": [],
   "source": [
    "code_executor = UserProxyAgent(\n",
    "    name=\"Executor\",\n",
    "    system_message=\"Executor. Execute the code written by the engineer and report the result.\",\n",
    "    description=\"Executor should always be called after the engineer has written code to be executed.\",\n",
    "    human_input_mode=\"ALWAYS\",\n",
    "    code_execution_config={\n",
    "        \"last_n_messages\": 3,\n",
    "        \"executor\": LocalCommandLineCodeExecutor(work_dir=\"paper\"),\n",
    "    },\n",
    ")"
   ]
  },
  {
   "cell_type": "code",
   "execution_count": 20,
   "id": "88e3dcc5",
   "metadata": {},
   "outputs": [],
   "source": [
    "groupchat = GroupChat(\n",
    "    agents=[user_proxy, engineer, code_executor, writer, planner],\n",
    "    messages=[],\n",
    "    max_round=20,\n",
    "    speaker_selection_method=\"auto\",\n",
    ")"
   ]
  },
  {
   "cell_type": "code",
   "execution_count": 21,
   "id": "17930ae4",
   "metadata": {},
   "outputs": [],
   "source": [
    "manager = GroupChatManager(groupchat=groupchat, llm_config={\"config_list\": config_list, \"cache_seed\": None})"
   ]
  },
  {
   "cell_type": "code",
   "execution_count": 22,
   "id": "a818cd0c",
   "metadata": {},
   "outputs": [
    {
     "name": "stdout",
     "output_type": "stream",
     "text": [
      "\u001b[33mAdmin\u001b[0m (to chat_manager):\n",
      "\n",
      "Today is 2025-05-07. Write a blogpost about the stock price performance of Nvidia in the past month.\n",
      "\n",
      "--------------------------------------------------------------------------------\n",
      "\u001b[32m\n",
      "Next speaker: Planner\n",
      "\u001b[0m\n",
      "\u001b[33mPlanner\u001b[0m (to chat_manager):\n",
      "\n",
      "To write a blog post about Nvidia's stock price performance over the past month (from April 7, 2025, to May 7, 2025), we will need the following information:\n",
      "\n",
      "1. **Historical Stock Prices for Nvidia (NVDA)**  \n",
      "   - Retrieve Nvidia's stock prices (daily data: open, high, low, close, and volume).\n",
      "   - Data range: From April 7, 2025, to May 7, 2025.\n",
      "\n",
      "2. **Percent Change in Stock Price**  \n",
      "   - Calculate the percentage change in Nvidia's stock price over the period.\n",
      "   - Identify how the stock opened and closed at the start (April 7, 2025) and end (May 7, 2025) of the period.\n",
      "\n",
      "3. **Volatility**  \n",
      "   - Assess the volatility of Nvidia's stock price using statistical metrics (e.g., standard deviation of daily price changes).\n",
      "\n",
      "4. **Key Events and Milestones**  \n",
      "   - Identify major news or events related to Nvidia within the past month (e.g., earnings reports, product announcements, or industry changes) that could have influenced the stock performance.\n",
      "\n",
      "5. **Stock Comparison (Optional)**  \n",
      "   - Compare Nvidia’s stock performance to the broader market index (e.g., NASDAQ-100 or S&P 500) to provide additional context.\n",
      "\n",
      "With this information, we can analyze Nvidia's stock performance and provide a detailed blog post. Let me know if you'd like to proceed with the Python implementation to retrieve this data!\n",
      "\n",
      "--------------------------------------------------------------------------------\n",
      "\u001b[32m\n",
      "Next speaker: Engineer\n",
      "\u001b[0m\n",
      "\u001b[33mEngineer\u001b[0m (to chat_manager):\n",
      "\n",
      "Let me begin with fetching the historical stock prices for Nvidia within the specified date range via Python. Here's the script:\n",
      "\n",
      "```python\n",
      "import yfinance as yf\n",
      "\n",
      "# Specify stock ticker and date range\n",
      "ticker = 'NVDA'\n",
      "start_date = '2025-04-07'\n",
      "end_date = '2025-05-07'\n",
      "\n",
      "# Fetch historical stock data\n",
      "stock_data = yf.download(ticker, start=start_date, end=end_date)\n",
      "\n",
      "# Output the data\n",
      "print(stock_data)\n",
      "```\n",
      "\n",
      "Executing this script will provide the historical stock data for Nvidia from April 7, 2025, to May 7, 2025. Once we get the data, I can analyze it for percent changes, volatility, and contextual insights. Let me know!\n",
      "\n",
      "--------------------------------------------------------------------------------\n",
      "\u001b[32m\n",
      "Next speaker: Executor\n",
      "\u001b[0m\n",
      "\u001b[31m\n",
      ">>>>>>>> TERMINATING RUN (b55a835a-d1db-4829-83c4-ec741bbb3040): User requested to end the conversation\u001b[0m\n",
      "\u001b[31m\n",
      ">>>>>>>> TERMINATING RUN (f9da2743-a684-40c8-98a8-a83454d3358e): No reply generated\u001b[0m\n"
     ]
    }
   ],
   "source": [
    "# Use Cache.disk to cache LLM responses. Change cache_seed for different responses.\n",
    "with Cache.disk(cache_seed=41) as cache:\n",
    "    chat_history = user_proxy.initiate_chat(\n",
    "        manager,\n",
    "        message=task,\n",
    "        cache=cache,\n",
    "    )"
   ]
  },
  {
   "cell_type": "code",
   "execution_count": null,
   "id": "a141f473",
   "metadata": {},
   "outputs": [],
   "source": []
  }
 ],
 "metadata": {
  "kernelspec": {
   "display_name": "idk",
   "language": "python",
   "name": "python3"
  },
  "language_info": {
   "codemirror_mode": {
    "name": "ipython",
    "version": 3
   },
   "file_extension": ".py",
   "mimetype": "text/x-python",
   "name": "python",
   "nbconvert_exporter": "python",
   "pygments_lexer": "ipython3",
   "version": "3.11.11"
  }
 },
 "nbformat": 4,
 "nbformat_minor": 5
}
