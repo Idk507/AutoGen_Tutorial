{
 "cells": [
  {
   "cell_type": "code",
   "execution_count": 1,
   "metadata": {},
   "outputs": [],
   "source": [
    "import autogen"
   ]
  },
  {
   "cell_type": "code",
   "execution_count": null,
   "metadata": {},
   "outputs": [],
   "source": [
    "config_list = [\n",
    "    \n",
    "        {\n",
    "        \"model\": \"gemini-pro\",\n",
    "        \"api_key\": \"\",\n",
    "        \"api_type\": \"google\"\n",
    "    }\n",
    "    \n",
    "]"
   ]
  },
  {
   "cell_type": "code",
   "execution_count": 3,
   "metadata": {},
   "outputs": [],
   "source": [
    "llm_config = {\n",
    "    \"config_list\": config_list,\n",
    "    \"output_dir\": \"output\",\n",
    "    \"output_file\": \"gemini-pro\",\n",
    "    \"output_format\": \"json\",\n",
    "    \"timeout\":120\n",
    "}"
   ]
  },
  {
   "cell_type": "code",
   "execution_count": 4,
   "metadata": {},
   "outputs": [],
   "source": [
    "assistant_quote1 = autogen.AssistantAgent(\n",
    "    name=\"assistant1\",\n",
    "    system_message=\"You are an assistant agent who gives quotes.  Return 'TERMINATE' when the task is done.\",\n",
    "    llm_config=llm_config,\n",
    ")\n",
    "\n",
    "assistant_quote2 = autogen.AssistantAgent(\n",
    "    name=\"assistant2\",\n",
    "    system_message=\"You are another assistant agent who gives quotes.  Return 'TERMINATE' when the task is done.\",\n",
    "    llm_config=llm_config,\n",
    "    max_consecutive_auto_reply=1\n",
    ")\n",
    "\n",
    "assistant_create_new = autogen.AssistantAgent(\n",
    "    name=\"assistant3\",\n",
    "    system_message=\"You will create a new quote based on others.  Return 'TERMINATE' when the task is done.\",\n",
    "    llm_config=llm_config,\n",
    "    max_consecutive_auto_reply=1\n",
    ")\n"
   ]
  },
  {
   "cell_type": "code",
   "execution_count": 5,
   "metadata": {},
   "outputs": [],
   "source": [
    "user_proxy = autogen.UserProxyAgent(\n",
    "    name=\"user_proxy\",\n",
    "    is_termination_msg=lambda msg: msg.get(\"content\") is not None and \"TERMINATE\" in msg[\"content\"],\n",
    "    human_input_mode=\"NEVER\",\n",
    "    max_consecutive_auto_reply=10,\n",
    "    code_execution_config=False\n",
    ")"
   ]
  },
  {
   "cell_type": "code",
   "execution_count": 6,
   "metadata": {},
   "outputs": [
    {
     "name": "stdout",
     "output_type": "stream",
     "text": [
      "\u001b[34m\n",
      "********************************************************************************\u001b[0m\n",
      "\u001b[34mStarting a new chat....\u001b[0m\n",
      "\u001b[34m\n",
      "********************************************************************************\u001b[0m\n",
      "\u001b[33muser_proxy\u001b[0m (to assistant1):\n",
      "\n",
      "give a quote from a famous author\n",
      "\n",
      "--------------------------------------------------------------------------------\n",
      "\u001b[33massistant1\u001b[0m (to user_proxy):\n",
      "\n",
      "\"The greatest glory in living lies not in never falling, but in rising every time we fall.\" - Nelson Mandela\n",
      "\n",
      "TERMINATE\n",
      "\n",
      "--------------------------------------------------------------------------------\n",
      "\u001b[34m\n",
      "********************************************************************************\u001b[0m\n",
      "\u001b[34mStarting a new chat....\u001b[0m\n",
      "\u001b[34m\n",
      "********************************************************************************\u001b[0m\n",
      "\u001b[33muser_proxy\u001b[0m (to assistant2):\n",
      "\n",
      "give another quote from a famous author\n",
      "Context: \n",
      "**Summary of Takeaway:**\n",
      "\n",
      "* Embrace failure as an opportunity for growth and resilience.\n",
      "\n",
      "* Learn from mistakes and use them to improve future efforts.\n",
      "\n",
      "* Develop a persistent mindset and never give up on your goals.\n",
      "\n",
      "* Recognize that adversity can lead to greater strength and success.\n",
      "\n",
      "* Focus on the positive aspects of failure and use them as motivation to persevere.\n",
      "\n",
      "--------------------------------------------------------------------------------\n",
      "\u001b[33massistant2\u001b[0m (to user_proxy):\n",
      "\n",
      "\"Failure is not the opposite of success; it's part of it.\" - Arianna Huffington\n",
      "\n",
      "TERMINATE\n",
      "\n",
      "--------------------------------------------------------------------------------\n",
      "\u001b[34m\n",
      "********************************************************************************\u001b[0m\n",
      "\u001b[34mStarting a new chat....\u001b[0m\n",
      "\u001b[34m\n",
      "********************************************************************************\u001b[0m\n",
      "\u001b[33muser_proxy\u001b[0m (to assistant3):\n",
      "\n",
      "based on the previous quotes, come up with your own!\n",
      "Context: \n",
      "**Summary of Takeaway:**\n",
      "\n",
      "* Embrace failure as an opportunity for growth and resilience.\n",
      "\n",
      "* Learn from mistakes and use them to improve future efforts.\n",
      "\n",
      "* Develop a persistent mindset and never give up on your goals.\n",
      "\n",
      "* Recognize that adversity can lead to greater strength and success.\n",
      "\n",
      "* Focus on the positive aspects of failure and use them as motivation to persevere.\n",
      "**Takeaway:**\n",
      "\n",
      "* Embrace failure as a natural part of the path to success.\n",
      "* Learn from mistakes and use them to improve future efforts.\n",
      "* Develop a persistent mindset and never give up on your goals.\n",
      "* Recognize that adversity can lead to greater strength and success.\n",
      "* Focus on the positive aspects of failure and use them as motivation to persevere.\n",
      "\n",
      "--------------------------------------------------------------------------------\n",
      "\u001b[33massistant3\u001b[0m (to user_proxy):\n",
      "\n",
      "**Custom Quote:**\n",
      "\n",
      "\"Failure is the crucible that forges resilience, the compass that guides innovation, and the catalyst that propels us towards greatness.\"\n",
      "\n",
      "**TERMINATE**\n",
      "\n",
      "--------------------------------------------------------------------------------\n"
     ]
    },
    {
     "data": {
      "text/plain": [
       "[ChatResult(chat_id=None, chat_history=[{'content': 'give a quote from a famous author', 'role': 'assistant', 'name': 'user_proxy'}, {'content': '\"The greatest glory in living lies not in never falling, but in rising every time we fall.\" - Nelson Mandela\\n\\nTERMINATE', 'role': 'user', 'name': 'assistant1'}], summary={'content': '**Summary of Takeaway:**\\n\\n* Embrace failure as an opportunity for growth and resilience.\\n\\n* Learn from mistakes and use them to improve future efforts.\\n\\n* Develop a persistent mindset and never give up on your goals.\\n\\n* Recognize that adversity can lead to greater strength and success.\\n\\n* Focus on the positive aspects of failure and use them as motivation to persevere.', 'refusal': None, 'role': 'assistant', 'audio': None, 'function_call': None, 'tool_calls': None}, cost={'usage_including_cached_inference': {'total_cost': 0.000193, 'gemini-pro': {'cost': 0.000193, 'prompt_tokens': 80, 'completion_tokens': 102, 'total_tokens': 182}}, 'usage_excluding_cached_inference': {'total_cost': 0.000193, 'gemini-pro': {'cost': 0.000193, 'prompt_tokens': 80, 'completion_tokens': 102, 'total_tokens': 182}}}, human_input=[]),\n",
       " ChatResult(chat_id=None, chat_history=[{'content': 'give another quote from a famous author\\nContext: \\n**Summary of Takeaway:**\\n\\n* Embrace failure as an opportunity for growth and resilience.\\n\\n* Learn from mistakes and use them to improve future efforts.\\n\\n* Develop a persistent mindset and never give up on your goals.\\n\\n* Recognize that adversity can lead to greater strength and success.\\n\\n* Focus on the positive aspects of failure and use them as motivation to persevere.', 'role': 'assistant', 'name': 'user_proxy'}, {'content': '\"Failure is not the opposite of success; it\\'s part of it.\" - Arianna Huffington\\n\\nTERMINATE', 'role': 'user', 'name': 'assistant2'}], summary={'content': '**Takeaway:**\\n\\n* Embrace failure as a natural part of the path to success.\\n* Learn from mistakes and use them to improve future efforts.\\n* Develop a persistent mindset and never give up on your goals.\\n* Recognize that adversity can lead to greater strength and success.\\n* Focus on the positive aspects of failure and use them as motivation to persevere.', 'refusal': None, 'role': 'assistant', 'audio': None, 'function_call': None, 'tool_calls': None}, cost={'usage_including_cached_inference': {'total_cost': 0.00026599999999999996, 'gemini-pro': {'cost': 0.00026599999999999996, 'prompt_tokens': 235, 'completion_tokens': 99, 'total_tokens': 334}}, 'usage_excluding_cached_inference': {'total_cost': 0.00026599999999999996, 'gemini-pro': {'cost': 0.00026599999999999996, 'prompt_tokens': 235, 'completion_tokens': 99, 'total_tokens': 334}}}, human_input=[]),\n",
       " ChatResult(chat_id=None, chat_history=[{'content': 'based on the previous quotes, come up with your own!\\nContext: \\n**Summary of Takeaway:**\\n\\n* Embrace failure as an opportunity for growth and resilience.\\n\\n* Learn from mistakes and use them to improve future efforts.\\n\\n* Develop a persistent mindset and never give up on your goals.\\n\\n* Recognize that adversity can lead to greater strength and success.\\n\\n* Focus on the positive aspects of failure and use them as motivation to persevere.\\n**Takeaway:**\\n\\n* Embrace failure as a natural part of the path to success.\\n* Learn from mistakes and use them to improve future efforts.\\n* Develop a persistent mindset and never give up on your goals.\\n* Recognize that adversity can lead to greater strength and success.\\n* Focus on the positive aspects of failure and use them as motivation to persevere.', 'role': 'assistant', 'name': 'user_proxy'}, {'content': '**Custom Quote:**\\n\\n\"Failure is the crucible that forges resilience, the compass that guides innovation, and the catalyst that propels us towards greatness.\"\\n\\n**TERMINATE**', 'role': 'user', 'name': 'assistant3'}], summary={'content': '**Takeaway:**\\n\\n* Embrace failure as a natural part of the path to success.\\n* Learn from mistakes and use them to improve future efforts.\\n* Develop a persistent mindset and never give up on your goals.\\n* Recognize that adversity can lead to greater strength and success.\\n* Focus on the positive aspects of failure and use them as motivation to persevere.', 'refusal': None, 'role': 'assistant', 'audio': None, 'function_call': None, 'tool_calls': None}, cost={'usage_including_cached_inference': {'total_cost': 0.0003725, 'gemini-pro': {'cost': 0.0003725, 'prompt_tokens': 409, 'completion_tokens': 112, 'total_tokens': 521}}, 'usage_excluding_cached_inference': {'total_cost': 0.0003725, 'gemini-pro': {'cost': 0.0003725, 'prompt_tokens': 409, 'completion_tokens': 112, 'total_tokens': 521}}}, human_input=[])]"
      ]
     },
     "execution_count": 6,
     "metadata": {},
     "output_type": "execute_result"
    }
   ],
   "source": [
    "user_proxy.initiate_chats(\n",
    "    [\n",
    "        {\n",
    "            \"recipient\": assistant_quote1,\n",
    "            \"message\": \"give a quote from a famous author\",\n",
    "            \"clear_history\": True,\n",
    "            \"silent\": False,\n",
    "            \"summary_method\": \"reflection_with_llm\"\n",
    "        },\n",
    "        {\n",
    "            \"recipient\": assistant_quote2,\n",
    "            \"message\": \"give another quote from a famous author\",\n",
    "            \"clear_history\": True,\n",
    "            \"silent\": False,\n",
    "            \"summary_method\": \"reflection_with_llm\"\n",
    "        },\n",
    "        {\n",
    "            \"recipient\": assistant_create_new,\n",
    "            \"message\": \"based on the previous quotes, come up with your own!\",\n",
    "            \"clear_history\": True,\n",
    "            \"silent\": False,\n",
    "            \"summary_method\": \"reflection_with_llm\"\n",
    "        }\n",
    "    ]\n",
    ")"
   ]
  },
  {
   "cell_type": "code",
   "execution_count": null,
   "metadata": {},
   "outputs": [],
   "source": []
  },
  {
   "cell_type": "code",
   "execution_count": null,
   "metadata": {},
   "outputs": [],
   "source": []
  }
 ],
 "metadata": {
  "kernelspec": {
   "display_name": "idk_gpu",
   "language": "python",
   "name": "python3"
  },
  "language_info": {
   "codemirror_mode": {
    "name": "ipython",
    "version": 3
   },
   "file_extension": ".py",
   "mimetype": "text/x-python",
   "name": "python",
   "nbconvert_exporter": "python",
   "pygments_lexer": "ipython3",
   "version": "3.10.14"
  }
 },
 "nbformat": 4,
 "nbformat_minor": 2
}
