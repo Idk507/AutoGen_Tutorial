{
 "cells": [
  {
   "cell_type": "code",
   "execution_count": 1,
   "metadata": {},
   "outputs": [],
   "source": [
    "import autogen\n",
    "from typing import Annotated\n",
    "import datetime\n"
   ]
  },
  {
   "cell_type": "code",
   "execution_count": 2,
   "metadata": {},
   "outputs": [],
   "source": [
    "def get_weather(location: Annotated[str,\"the location\"]) ->str:\n",
    "    if location == \"Florida\":\n",
    "        return \"It's hot in Florida!\"\n",
    "    elif location == \"Maine\":\n",
    "        return \"It's cold in Maine\"\n",
    "    else:\n",
    "        return f\"I don't know this place {location}\""
   ]
  },
  {
   "cell_type": "code",
   "execution_count": 4,
   "metadata": {},
   "outputs": [],
   "source": [
    "def get_time(timezone: Annotated[str, \"The timezone we are in\"]) -> str:\n",
    "    now = datetime.datetime.now()\n",
    "\n",
    "    # Get the time with timezone information\n",
    "    current_time = now.strftime(\"%Y-%m-%d %H:%M:%S %Z\")\n",
    "    return f\"Current time in your {timezone}: {current_time}\"\n"
   ]
  },
  {
   "cell_type": "code",
   "execution_count": null,
   "metadata": {},
   "outputs": [],
   "source": [
    "# Let's first define the assistant agent that suggests tool calls.\n",
    "assistant = autogen.ConversableAgent(\n",
    "    name=\"Assistant\",\n",
    "    system_message=\"You are a helpful AI assistant. \"\n",
    "                   \"Return 'TERMINATE' when the task is done.\",\n",
    "    llm_config={\n",
    "        \"config_list\": [\n",
    "            {\n",
    "        \"model\": \"gemini-pro\",\n",
    "        \"api_key\": \"\",\n",
    "        \"api_type\": \"google\"\n",
    "    }\n",
    "    \n",
    "        ]\n",
    "    }\n",
    ")\n"
   ]
  },
  {
   "cell_type": "code",
   "execution_count": 11,
   "metadata": {},
   "outputs": [],
   "source": [
    "# The user proxy agent is used for interacting with the assistant agent\n",
    "# and executes tool calls.\n",
    "user_proxy = autogen.ConversableAgent(\n",
    "    name=\"User\",\n",
    "    is_termination_msg=lambda msg: msg.get(\"content\") is not None and \"TERMINATE\" in msg[\"content\"],\n",
    "    human_input_mode=\"NEVER\",\n",
    ")"
   ]
  },
  {
   "cell_type": "code",
   "execution_count": 12,
   "metadata": {},
   "outputs": [
    {
     "data": {
      "text/plain": [
       "<function __main__.get_time(timezone: typing.Annotated[str, 'The timezone we are in']) -> str>"
      ]
     },
     "execution_count": 12,
     "metadata": {},
     "output_type": "execute_result"
    }
   ],
   "source": [
    "# Register the tool signature with the assistant agent.\n",
    "assistant.register_for_llm(name=\"get_weather\", description=\"Get the current weather for a specific location\")(get_weather)\n",
    "assistant.register_for_llm(name=\"get_time\", description=\"The IANA time zone name, e.g. America/Los_Angeles\")(get_time)\n"
   ]
  },
  {
   "cell_type": "code",
   "execution_count": 13,
   "metadata": {},
   "outputs": [
    {
     "data": {
      "text/plain": [
       "<function __main__.get_time(timezone: typing.Annotated[str, 'The timezone we are in']) -> str>"
      ]
     },
     "execution_count": 13,
     "metadata": {},
     "output_type": "execute_result"
    }
   ],
   "source": [
    "# Register the tool function with the user proxy agent.\n",
    "user_proxy.register_for_execution(name=\"get_weather\")(get_weather)\n",
    "user_proxy.register_for_execution(name=\"get_time\")(get_time)"
   ]
  },
  {
   "cell_type": "code",
   "execution_count": 14,
   "metadata": {},
   "outputs": [
    {
     "name": "stdout",
     "output_type": "stream",
     "text": [
      "\u001b[33mUser\u001b[0m (to Assistant):\n",
      "\n",
      "What time is it in Florida?\n",
      "\n",
      "--------------------------------------------------------------------------------\n",
      "\u001b[31m\n",
      ">>>>>>>> USING AUTO REPLY...\u001b[0m\n",
      "\u001b[33mAssistant\u001b[0m (to User):\n",
      "\n",
      "\u001b[32m***** Suggested tool call (123): get_time *****\u001b[0m\n",
      "Arguments: \n",
      "{\"timezone\": \"America/New_York\"}\n",
      "\u001b[32m***********************************************\u001b[0m\n",
      "\n",
      "--------------------------------------------------------------------------------\n",
      "\u001b[35m\n",
      ">>>>>>>> EXECUTING FUNCTION get_time...\u001b[0m\n",
      "\u001b[33mUser\u001b[0m (to Assistant):\n",
      "\n",
      "\u001b[33mUser\u001b[0m (to Assistant):\n",
      "\n",
      "\u001b[32m***** Response from calling tool (123) *****\u001b[0m\n",
      "Current time in your America/New_York: 2024-12-09 20:40:08 \n",
      "\u001b[32m********************************************\u001b[0m\n",
      "\n",
      "--------------------------------------------------------------------------------\n",
      "\u001b[31m\n",
      ">>>>>>>> USING AUTO REPLY...\u001b[0m\n",
      "\u001b[33mAssistant\u001b[0m (to User):\n",
      "\n",
      "\u001b[32m***** Suggested tool call (440): get_weather *****\u001b[0m\n",
      "Arguments: \n",
      "{\"location\": \"Florida\"}\n",
      "\u001b[32m**************************************************\u001b[0m\n",
      "\n",
      "--------------------------------------------------------------------------------\n",
      "\u001b[35m\n",
      ">>>>>>>> EXECUTING FUNCTION get_weather...\u001b[0m\n",
      "\u001b[33mUser\u001b[0m (to Assistant):\n",
      "\n",
      "\u001b[33mUser\u001b[0m (to Assistant):\n",
      "\n",
      "\u001b[32m***** Response from calling tool (440) *****\u001b[0m\n",
      "It's hot in Florida!\n",
      "\u001b[32m********************************************\u001b[0m\n",
      "\n",
      "--------------------------------------------------------------------------------\n",
      "\u001b[31m\n",
      ">>>>>>>> USING AUTO REPLY...\u001b[0m\n",
      "\u001b[33mAssistant\u001b[0m (to User):\n",
      "\n",
      "\u001b[32m***** Suggested tool call (789): get_time *****\u001b[0m\n",
      "Arguments: \n",
      "{\"timezone\": \"America/Los_Angeles\"}\n",
      "\u001b[32m***********************************************\u001b[0m\n",
      "\n",
      "--------------------------------------------------------------------------------\n",
      "\u001b[35m\n",
      ">>>>>>>> EXECUTING FUNCTION get_time...\u001b[0m\n",
      "\u001b[33mUser\u001b[0m (to Assistant):\n",
      "\n",
      "\u001b[33mUser\u001b[0m (to Assistant):\n",
      "\n",
      "\u001b[32m***** Response from calling tool (789) *****\u001b[0m\n",
      "Current time in your America/Los_Angeles: 2024-12-09 20:40:15 \n",
      "\u001b[32m********************************************\u001b[0m\n",
      "\n",
      "--------------------------------------------------------------------------------\n",
      "\u001b[31m\n",
      ">>>>>>>> USING AUTO REPLY...\u001b[0m\n",
      "\u001b[33mAssistant\u001b[0m (to User):\n",
      "\n",
      "\u001b[32m***** Suggested tool call (567): get_weather *****\u001b[0m\n",
      "Arguments: \n",
      "{\"location\": \"California\"}\n",
      "\u001b[32m**************************************************\u001b[0m\n",
      "\n",
      "--------------------------------------------------------------------------------\n",
      "\u001b[35m\n",
      ">>>>>>>> EXECUTING FUNCTION get_weather...\u001b[0m\n",
      "\u001b[33mUser\u001b[0m (to Assistant):\n",
      "\n",
      "\u001b[33mUser\u001b[0m (to Assistant):\n",
      "\n",
      "\u001b[32m***** Response from calling tool (567) *****\u001b[0m\n",
      "I don't know this place California\n",
      "\u001b[32m********************************************\u001b[0m\n",
      "\n",
      "--------------------------------------------------------------------------------\n",
      "\u001b[31m\n",
      ">>>>>>>> USING AUTO REPLY...\u001b[0m\n",
      "\u001b[33mAssistant\u001b[0m (to User):\n",
      "\n",
      "\u001b[32m***** Suggested tool call (788): get_weather *****\u001b[0m\n",
      "Arguments: \n",
      "{\"location\": \"Mallorca\"}\n",
      "\u001b[32m**************************************************\u001b[0m\n",
      "\n",
      "--------------------------------------------------------------------------------\n",
      "\u001b[35m\n",
      ">>>>>>>> EXECUTING FUNCTION get_weather...\u001b[0m\n",
      "\u001b[33mUser\u001b[0m (to Assistant):\n",
      "\n",
      "\u001b[33mUser\u001b[0m (to Assistant):\n",
      "\n",
      "\u001b[32m***** Response from calling tool (788) *****\u001b[0m\n",
      "I don't know this place Mallorca\n",
      "\u001b[32m********************************************\u001b[0m\n",
      "\n",
      "--------------------------------------------------------------------------------\n",
      "\u001b[31m\n",
      ">>>>>>>> USING AUTO REPLY...\u001b[0m\n",
      "\u001b[33mAssistant\u001b[0m (to User):\n",
      "\n",
      "TERMINATE\n",
      "\n",
      "--------------------------------------------------------------------------------\n"
     ]
    },
    {
     "data": {
      "text/plain": [
       "ChatResult(chat_id=None, chat_history=[{'content': 'What time is it in Florida?', 'role': 'assistant', 'name': 'User'}, {'tool_calls': [{'id': '123', 'function': {'arguments': '{\"timezone\": \"America/New_York\"}', 'name': 'get_time'}, 'type': 'function'}], 'content': None, 'role': 'assistant'}, {'content': 'Current time in your America/New_York: 2024-12-09 20:40:08 ', 'tool_responses': [{'tool_call_id': '123', 'role': 'tool', 'content': 'Current time in your America/New_York: 2024-12-09 20:40:08 ', 'name': 'get_time'}], 'role': 'tool', 'name': 'User'}, {'tool_calls': [{'id': '440', 'function': {'arguments': '{\"location\": \"Florida\"}', 'name': 'get_weather'}, 'type': 'function'}], 'content': None, 'role': 'assistant'}, {'content': \"It's hot in Florida!\", 'tool_responses': [{'tool_call_id': '440', 'role': 'tool', 'content': \"It's hot in Florida!\", 'name': 'get_weather'}], 'role': 'tool', 'name': 'User'}, {'tool_calls': [{'id': '789', 'function': {'arguments': '{\"timezone\": \"America/Los_Angeles\"}', 'name': 'get_time'}, 'type': 'function'}], 'content': None, 'role': 'assistant'}, {'content': 'Current time in your America/Los_Angeles: 2024-12-09 20:40:15 ', 'tool_responses': [{'tool_call_id': '789', 'role': 'tool', 'content': 'Current time in your America/Los_Angeles: 2024-12-09 20:40:15 ', 'name': 'get_time'}], 'role': 'tool', 'name': 'User'}, {'tool_calls': [{'id': '567', 'function': {'arguments': '{\"location\": \"California\"}', 'name': 'get_weather'}, 'type': 'function'}], 'content': None, 'role': 'assistant'}, {'content': \"I don't know this place California\", 'tool_responses': [{'tool_call_id': '567', 'role': 'tool', 'content': \"I don't know this place California\", 'name': 'get_weather'}], 'role': 'tool', 'name': 'User'}, {'tool_calls': [{'id': '788', 'function': {'arguments': '{\"location\": \"Mallorca\"}', 'name': 'get_weather'}, 'type': 'function'}], 'content': None, 'role': 'assistant'}, {'content': \"I don't know this place Mallorca\", 'tool_responses': [{'tool_call_id': '788', 'role': 'tool', 'content': \"I don't know this place Mallorca\", 'name': 'get_weather'}], 'role': 'tool', 'name': 'User'}, {'content': 'TERMINATE', 'role': 'user', 'name': 'Assistant'}], summary='', cost={'usage_including_cached_inference': {'total_cost': 0.00165, 'gemini-pro': {'cost': 0.00165, 'prompt_tokens': 1329, 'completion_tokens': 657, 'total_tokens': 1986}}, 'usage_excluding_cached_inference': {'total_cost': 0.00165, 'gemini-pro': {'cost': 0.00165, 'prompt_tokens': 1329, 'completion_tokens': 657, 'total_tokens': 1986}}}, human_input=[])"
      ]
     },
     "execution_count": 14,
     "metadata": {},
     "output_type": "execute_result"
    }
   ],
   "source": [
    "user_proxy.initiate_chat(\n",
    "    assistant,\n",
    "    message=\"What time is it in Florida?\"\n",
    ")"
   ]
  },
  {
   "cell_type": "code",
   "execution_count": null,
   "metadata": {},
   "outputs": [],
   "source": []
  }
 ],
 "metadata": {
  "kernelspec": {
   "display_name": "idk_gpu",
   "language": "python",
   "name": "python3"
  },
  "language_info": {
   "codemirror_mode": {
    "name": "ipython",
    "version": 3
   },
   "file_extension": ".py",
   "mimetype": "text/x-python",
   "name": "python",
   "nbconvert_exporter": "python",
   "pygments_lexer": "ipython3",
   "version": "3.10.14"
  }
 },
 "nbformat": 4,
 "nbformat_minor": 2
}
