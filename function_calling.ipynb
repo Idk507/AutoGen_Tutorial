{
 "cells": [
  {
   "cell_type": "code",
   "execution_count": 1,
   "metadata": {},
   "outputs": [],
   "source": [
    "from typing import Literal\n",
    "\n",
    "import autogen\n",
    "from typing_extensions import Annotated\n"
   ]
  },
  {
   "cell_type": "code",
   "execution_count": null,
   "metadata": {},
   "outputs": [],
   "source": [
    "config_list = [\n",
    "    \n",
    "        {\n",
    "        \"model\": \"gemini-pro\",\n",
    "        \"api_key\": \"\",\n",
    "        \"api_type\": \"google\"\n",
    "    }\n",
    "    \n",
    "]"
   ]
  },
  {
   "cell_type": "code",
   "execution_count": 3,
   "metadata": {},
   "outputs": [],
   "source": [
    "llm_config = {\n",
    "    \"cache_seed\": 47,\n",
    "    \"temperature\": 0,\n",
    "    \"config_list\": config_list,\n",
    "    \"timeout\": 120,\n",
    "}"
   ]
  },
  {
   "cell_type": "code",
   "execution_count": 4,
   "metadata": {},
   "outputs": [],
   "source": [
    "currency_bot = autogen.AssistantAgent( \n",
    "    name  = \"Currency Bot\",\n",
    "    system_message=\"For currency exchange tasks,only use the functions you have been provided with .Reply TERMINATE when the task is done\",\n",
    "    llm_config=llm_config\n",
    ")"
   ]
  },
  {
   "cell_type": "code",
   "execution_count": 5,
   "metadata": {},
   "outputs": [],
   "source": [
    "user_proxy = autogen.UserProxyAgent(\n",
    "    name=\"user_proxy\",\n",
    "    is_termination_msg=lambda x: x.get(\"content\", \"\") and x.get(\"content\", \"\").rstrip().endswith(\"TERMINATE\"),\n",
    "    human_input_mode=\"NEVER\",\n",
    "    max_consecutive_auto_reply=5,\n",
    "    code_execution_config=False\n",
    ")"
   ]
  },
  {
   "cell_type": "code",
   "execution_count": 6,
   "metadata": {},
   "outputs": [],
   "source": [
    "\n",
    "CurrencySymbol = Literal[\"USD\", \"EUR\"]\n"
   ]
  },
  {
   "cell_type": "code",
   "execution_count": 7,
   "metadata": {},
   "outputs": [],
   "source": [
    "def exchange_rate(base_currency: CurrencySymbol, quote_currency: CurrencySymbol) -> float:\n",
    "    if base_currency == quote_currency:\n",
    "        return 1.0\n",
    "    elif base_currency == \"USD\" and quote_currency == \"EUR\":\n",
    "        return 1 / 1.09\n",
    "    elif base_currency == \"EUR\" and quote_currency == \"USD\":\n",
    "        return 1 / 1.1\n",
    "    else:\n",
    "        raise ValueError(f\"Unknown currencies: {base_currency}, {quote_currency}\")"
   ]
  },
  {
   "cell_type": "code",
   "execution_count": 8,
   "metadata": {},
   "outputs": [],
   "source": [
    "@user_proxy.register_for_execution()\n",
    "@currency_bot.register_for_llm(description=\"Currency exchange calculator\")\n",
    "def currency_calculator(\n",
    "        base_amount: Annotated[float, \"Amount of currency in base_currency\"],\n",
    "        base_currency: Annotated[CurrencySymbol, \"Base currency\"] = \"USD\",\n",
    "        quote_currency: Annotated[CurrencySymbol, \"Quote currency\"] = \"EUR\"\n",
    ") -> str:\n",
    "    quote_amount = exchange_rate(base_currency, quote_currency) * base_amount\n",
    "    return f\"{quote_amount} - {quote_currency}\"\n"
   ]
  },
  {
   "cell_type": "code",
   "execution_count": 9,
   "metadata": {},
   "outputs": [
    {
     "name": "stdout",
     "output_type": "stream",
     "text": [
      "\u001b[33muser_proxy\u001b[0m (to Currency Bot):\n",
      "\n",
      "Can you give me the answer to 2 + 2?\n",
      "\n",
      "--------------------------------------------------------------------------------\n",
      "\u001b[33mCurrency Bot\u001b[0m (to user_proxy):\n",
      "\n",
      "I cannot fulfill this request. I do not have the functionality to perform arithmetic operations.\n",
      "\n",
      "--------------------------------------------------------------------------------\n",
      "\u001b[33muser_proxy\u001b[0m (to Currency Bot):\n",
      "\n",
      "\n",
      "\n",
      "--------------------------------------------------------------------------------\n",
      "\u001b[33mCurrency Bot\u001b[0m (to user_proxy):\n",
      "\n",
      "\u001b[32m***** Suggested tool call (862): currency_calculator *****\u001b[0m\n",
      "Arguments: \n",
      "{\"base_amount\": 100.0, \"base_currency\": \"USD\", \"quote_currency\": \"EUR\"}\n",
      "\u001b[32m**********************************************************\u001b[0m\n",
      "\n",
      "--------------------------------------------------------------------------------\n",
      "\u001b[35m\n",
      ">>>>>>>> EXECUTING FUNCTION currency_calculator...\u001b[0m\n",
      "\u001b[33muser_proxy\u001b[0m (to Currency Bot):\n",
      "\n",
      "\u001b[33muser_proxy\u001b[0m (to Currency Bot):\n",
      "\n",
      "\u001b[32m***** Response from calling tool (862) *****\u001b[0m\n",
      "91.74311926605505 - EUR\n",
      "\u001b[32m********************************************\u001b[0m\n",
      "\n",
      "--------------------------------------------------------------------------------\n",
      "\u001b[33mCurrency Bot\u001b[0m (to user_proxy):\n",
      "\n",
      "\u001b[32m***** Suggested tool call (164): currency_calculator *****\u001b[0m\n",
      "Arguments: \n",
      "{\"quote_currency\": \"USD\", \"base_amount\": 100.0, \"base_currency\": \"EUR\"}\n",
      "\u001b[32m**********************************************************\u001b[0m\n",
      "\n",
      "--------------------------------------------------------------------------------\n",
      "\u001b[35m\n",
      ">>>>>>>> EXECUTING FUNCTION currency_calculator...\u001b[0m\n",
      "\u001b[33muser_proxy\u001b[0m (to Currency Bot):\n",
      "\n",
      "\u001b[33muser_proxy\u001b[0m (to Currency Bot):\n",
      "\n",
      "\u001b[32m***** Response from calling tool (164) *****\u001b[0m\n",
      "90.9090909090909 - USD\n",
      "\u001b[32m********************************************\u001b[0m\n",
      "\n",
      "--------------------------------------------------------------------------------\n",
      "\u001b[33mCurrency Bot\u001b[0m (to user_proxy):\n",
      "\n",
      "\u001b[32m***** Suggested tool call (230): currency_calculator *****\u001b[0m\n",
      "Arguments: \n",
      "{\"quote_currency\": \"USD\", \"base_currency\": \"USD\", \"base_amount\": 100.0}\n",
      "\u001b[32m**********************************************************\u001b[0m\n",
      "\n",
      "--------------------------------------------------------------------------------\n",
      "\u001b[35m\n",
      ">>>>>>>> EXECUTING FUNCTION currency_calculator...\u001b[0m\n",
      "\u001b[33muser_proxy\u001b[0m (to Currency Bot):\n",
      "\n",
      "\u001b[33muser_proxy\u001b[0m (to Currency Bot):\n",
      "\n",
      "\u001b[32m***** Response from calling tool (230) *****\u001b[0m\n",
      "100.0 - USD\n",
      "\u001b[32m********************************************\u001b[0m\n",
      "\n",
      "--------------------------------------------------------------------------------\n",
      "\u001b[33mCurrency Bot\u001b[0m (to user_proxy):\n",
      "\n",
      "\n",
      "100.0 - EUR\n",
      "\u001b[32m***** Suggested tool call (951): currency_calculator *****\u001b[0m\n",
      "Arguments: \n",
      "{\"base_amount\": 100.0, \"quote_currency\": \"EUR\", \"base_currency\": \"EUR\"}\n",
      "\u001b[32m**********************************************************\u001b[0m\n",
      "\n",
      "--------------------------------------------------------------------------------\n",
      "\u001b[35m\n",
      ">>>>>>>> EXECUTING FUNCTION currency_calculator...\u001b[0m\n",
      "\u001b[33muser_proxy\u001b[0m (to Currency Bot):\n",
      "\n",
      "\u001b[33muser_proxy\u001b[0m (to Currency Bot):\n",
      "\n",
      "\u001b[32m***** Response from calling tool (951) *****\u001b[0m\n",
      "100.0 - EUR\n",
      "\u001b[32m********************************************\u001b[0m\n",
      "\n",
      "--------------------------------------------------------------------------------\n",
      "\u001b[33mCurrency Bot\u001b[0m (to user_proxy):\n",
      "\n",
      "\u001b[32m***** Suggested tool call (879): currency_calculator *****\u001b[0m\n",
      "Arguments: \n",
      "{\"base_amount\": 100.0, \"quote_currency\": \"EUR\", \"base_currency\": \"EUR\"}\n",
      "\u001b[32m**********************************************************\u001b[0m\n",
      "\n",
      "--------------------------------------------------------------------------------\n"
     ]
    },
    {
     "data": {
      "text/plain": [
       "ChatResult(chat_id=None, chat_history=[{'content': 'Can you give me the answer to 2 + 2?', 'role': 'assistant', 'name': 'user_proxy'}, {'content': 'I cannot fulfill this request. I do not have the functionality to perform arithmetic operations.', 'role': 'user', 'name': 'Currency Bot'}, {'content': '', 'role': 'assistant', 'name': 'user_proxy'}, {'tool_calls': [{'id': '862', 'function': {'arguments': '{\"base_amount\": 100.0, \"base_currency\": \"USD\", \"quote_currency\": \"EUR\"}', 'name': 'currency_calculator'}, 'type': 'function'}], 'content': None, 'role': 'assistant'}, {'content': '91.74311926605505 - EUR', 'tool_responses': [{'tool_call_id': '862', 'role': 'tool', 'content': '91.74311926605505 - EUR', 'name': 'currency_calculator'}], 'role': 'tool', 'name': 'user_proxy'}, {'tool_calls': [{'id': '164', 'function': {'arguments': '{\"quote_currency\": \"USD\", \"base_amount\": 100.0, \"base_currency\": \"EUR\"}', 'name': 'currency_calculator'}, 'type': 'function'}], 'content': None, 'role': 'assistant'}, {'content': '90.9090909090909 - USD', 'tool_responses': [{'tool_call_id': '164', 'role': 'tool', 'content': '90.9090909090909 - USD', 'name': 'currency_calculator'}], 'role': 'tool', 'name': 'user_proxy'}, {'tool_calls': [{'id': '230', 'function': {'arguments': '{\"quote_currency\": \"USD\", \"base_currency\": \"USD\", \"base_amount\": 100.0}', 'name': 'currency_calculator'}, 'type': 'function'}], 'content': None, 'role': 'assistant'}, {'content': '100.0 - USD', 'tool_responses': [{'tool_call_id': '230', 'role': 'tool', 'content': '100.0 - USD', 'name': 'currency_calculator'}], 'role': 'tool', 'name': 'user_proxy'}, {'content': '\\n100.0 - EUR', 'tool_calls': [{'id': '951', 'function': {'arguments': '{\"base_amount\": 100.0, \"quote_currency\": \"EUR\", \"base_currency\": \"EUR\"}', 'name': 'currency_calculator'}, 'type': 'function'}], 'role': 'assistant'}, {'content': '100.0 - EUR', 'tool_responses': [{'tool_call_id': '951', 'role': 'tool', 'content': '100.0 - EUR', 'name': 'currency_calculator'}], 'role': 'tool', 'name': 'user_proxy'}, {'tool_calls': [{'id': '879', 'function': {'arguments': '{\"base_amount\": 100.0, \"quote_currency\": \"EUR\", \"base_currency\": \"EUR\"}', 'name': 'currency_calculator'}, 'type': 'function'}], 'content': None, 'role': 'assistant'}], summary='', cost={'usage_including_cached_inference': {'total_cost': 0.0018605000000000002, 'gemini-pro': {'cost': 0.0018605000000000002, 'prompt_tokens': 1387, 'completion_tokens': 778, 'total_tokens': 2165}}, 'usage_excluding_cached_inference': {'total_cost': 0.0018605000000000002, 'gemini-pro': {'cost': 0.0018605000000000002, 'prompt_tokens': 1387, 'completion_tokens': 778, 'total_tokens': 2165}}}, human_input=[])"
      ]
     },
     "execution_count": 9,
     "metadata": {},
     "output_type": "execute_result"
    }
   ],
   "source": [
    "user_proxy.initiate_chat(\n",
    "    currency_bot,\n",
    "    message=\"Can you give me the answer to 2 + 2?\"\n",
    ")"
   ]
  },
  {
   "cell_type": "code",
   "execution_count": null,
   "metadata": {},
   "outputs": [],
   "source": []
  },
  {
   "cell_type": "code",
   "execution_count": null,
   "metadata": {},
   "outputs": [],
   "source": []
  }
 ],
 "metadata": {
  "kernelspec": {
   "display_name": "idk_gpu",
   "language": "python",
   "name": "python3"
  },
  "language_info": {
   "codemirror_mode": {
    "name": "ipython",
    "version": 3
   },
   "file_extension": ".py",
   "mimetype": "text/x-python",
   "name": "python",
   "nbconvert_exporter": "python",
   "pygments_lexer": "ipython3",
   "version": "3.10.14"
  }
 },
 "nbformat": 4,
 "nbformat_minor": 2
}
